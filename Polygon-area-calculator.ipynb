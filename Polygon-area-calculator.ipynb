{
 "cells": [
  {
   "cell_type": "code",
   "execution_count": 26,
   "id": "6d42d144-71f3-47f9-a32a-2126a2cef716",
   "metadata": {},
   "outputs": [],
   "source": [
    "class Rectangle:\n",
    "    def __init__(self, width, height):\n",
    "        self.width  = width\n",
    "        self.height =  height\n",
    "\n",
    "    def __str__(self):\n",
    "        output = f'Rectangle(width={self.width}, height={self.height})'\n",
    "        return output        \n",
    "\n",
    "    def set_width(self, width):\n",
    "        self.width  = width\n",
    "\n",
    "    def set_height(self, height):\n",
    "        self.height = height\n",
    "\n",
    "    def get_area(self):\n",
    "        return (self.width * self.height)\n",
    "\n",
    "    def get_perimeter(self):\n",
    "        return  (2 * self.width + 2 * self.height)\n",
    "\n",
    "    def get_diagonal(self):\n",
    "        return ((self.width ** 2 + self.height ** 2) ** .5)\n",
    "\n",
    "    def get_picture(self):\n",
    "        rows = self.height\n",
    "        picture = ''\n",
    "        for i in range(rows):\n",
    "            picture += ('*'*self.width+'\\n')\n",
    "        return  picture\n",
    "        \n",
    "\n",
    "    def get_amount_inside(self, shape):\n",
    "\n",
    "        widthFit = self.width // shape.width\n",
    "        heightFit = self.height // shape.height\n",
    "        return widthFit * heightFit\n",
    "\n",
    "class Square(Rectangle):\n",
    "    def __init__(self, widthHeight):\n",
    "        self.width = widthHeight\n",
    "        self.height  =  widthHeight\n",
    "\n",
    "    def __str__(self):\n",
    "        output = f'Square(width={self.width})'\n",
    "        return output     \n",
    "\n",
    "    def set_side(self, side):\n",
    "        self.width = side\n",
    "        self.height  =  side\n",
    "\n",
    "    def set_width(self, width):\n",
    "        self.width  = width\n",
    "\n",
    "    def set_height(self, height):\n",
    "        self.height = height\n",
    "    \n"
   ]
  },
  {
   "cell_type": "code",
   "execution_count": 27,
   "id": "7f4f0c90-bf9c-41a0-9147-7226f3a7170c",
   "metadata": {},
   "outputs": [
    {
     "name": "stdout",
     "output_type": "stream",
     "text": [
      "50\n",
      "26\n",
      "Rectangle(width=10, height=3)\n",
      "**********\n",
      "**********\n",
      "**********\n",
      "\n",
      "81\n",
      "5.656854249492381\n",
      "Square(width=4)\n",
      "****\n",
      "****\n",
      "****\n",
      "****\n",
      "\n",
      "8\n"
     ]
    }
   ],
   "source": [
    "rect = Rectangle(10, 5)\n",
    "print(rect.get_area())\n",
    "rect.set_height(3)\n",
    "print(rect.get_perimeter())\n",
    "print(rect)\n",
    "print(rect.get_picture())\n",
    "\n",
    "sq = Square(9)\n",
    "print(sq.get_area())\n",
    "sq.set_side(4)\n",
    "print(sq.get_diagonal())\n",
    "print(sq)\n",
    "print(sq.get_picture())\n",
    "\n",
    "rect.set_height(8)\n",
    "rect.set_width(16)\n",
    "print(rect.get_amount_inside(sq))"
   ]
  },
  {
   "cell_type": "code",
   "execution_count": 28,
   "id": "f99f9e6f-c18f-45d3-b30d-34c93acbe0d8",
   "metadata": {},
   "outputs": [
    {
     "name": "stdout",
     "output_type": "stream",
     "text": [
      "50\n",
      "26\n",
      "Rectangle(width=3, height=10)\n",
      "81\n",
      "5.656854249492381\n",
      "Square(width=4)\n"
     ]
    }
   ],
   "source": [
    "rect = Rectangle(5, 10)\n",
    "print(rect.get_area())\n",
    "rect.set_width(3)\n",
    "print(rect.get_perimeter())\n",
    "print(rect)\n",
    "\n",
    "sq = Square(9)\n",
    "print(sq.get_area())\n",
    "sq.set_side(4)\n",
    "print(sq.get_diagonal())\n",
    "print(sq)\n"
   ]
  },
  {
   "cell_type": "code",
   "execution_count": null,
   "id": "10fd564d-3c0b-48f4-a9ad-54aea610f51b",
   "metadata": {},
   "outputs": [],
   "source": []
  }
 ],
 "metadata": {
  "kernelspec": {
   "display_name": "Python 3 (ipykernel)",
   "language": "python",
   "name": "python3"
  },
  "language_info": {
   "codemirror_mode": {
    "name": "ipython",
    "version": 3
   },
   "file_extension": ".py",
   "mimetype": "text/x-python",
   "name": "python",
   "nbconvert_exporter": "python",
   "pygments_lexer": "ipython3",
   "version": "3.10.5"
  }
 },
 "nbformat": 4,
 "nbformat_minor": 5
}
